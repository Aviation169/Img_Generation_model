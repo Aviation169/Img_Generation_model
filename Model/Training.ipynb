{
 "cells": [
  {
   "cell_type": "code",
   "execution_count": null,
   "metadata": {},
   "outputs": [],
   "source": ["%pip install gdown"]
  },
  {
   "cell_type": "code",
   "execution_count": null,
   "metadata": {},
   "outputs": [],
   "source": [
    "import torch\n",
    "import torch.nn as nn\n",
    "import torch.optim as optim\n",
    "import torchvision\n",
    "import torchvision.transforms as transforms\n",
    "import matplotlib.pyplot as plt\n",
    "import numpy as np\n",
    "from pathlib import Path\n"
   ]
  },
  {
   "cell_type": "code",
   "execution_count": null,
   "metadata": {},
   "outputs": [],
   "source": [
    "device = torch.device('cuda' if torch.cuda.is_available() else 'cpu')\n",
    "print(f\"Using device: {device}\")\n"
   ]
  },
  {
   "cell_type": "code",
   "execution_count": null,
   "metadata": {},
   "outputs": [],
   "source": [
    "def load_celeba(data_dir='img-align-celeba'):\n",
    "    transform = transforms.Compose([\n",
    "        transforms.Resize((64, 64)),\n",
    "        transforms.ToTensor(),\n",
    "        transforms.Normalize(mean=[0.5, 0.5, 0.5], std=[0.5, 0.5, 0.5])\n",
    "    ])\n",
    "    try:\n",
    "        dataset = torchvision.datasets.ImageFolder(root=data_dir, transform=transform)\n",
    "        dataloader = torch.utils.data.DataLoader(dataset, batch_size=128, shuffle=True, num_workers=0, pin_memory=True)\n",
    "        print(f\"Loaded {len(dataset)} images from {data_dir}\")\n",
    "        return dataloader\n",
    "    except Exception as e:\n",
    "        print(f\"Error loading dataset: {e}\")\n",
    "        raise\n",
    "dataloader = load_celeba()\n"
   ]
  },
  {
   "cell_type": "code",
   "execution_count": null,
   "metadata": {},
   "outputs": [],
   "source": [
    "latent_dim = 100\n",
    "epochs = 50\n",
    "image_shape = (3, 64, 64)\n"
   ]
  },
  {
   "cell_type": "code",
   "execution_count": null,
   "metadata": {},
   "outputs": [],
   "source": [
    "class Generator(nn.Module):\n",
    "    def __init__(self):\n",
    "        super(Generator, self).__init__()\n",
    "        self.model = nn.Sequential("\n,
    "            nn.Linear(latent_dim, 512 * 8 * 8),\n",
    "            nn.BatchNorm1d(512 * 8 * 8),\n",
    "            nn.LeakyReLU(0.2),\n",
    "            nn.Unflatten(1, (512, 8, 8)),\n",
    "            nn.ConvTranspose2d(512, 256, 4, stride=2, padding=1),\n",
    "            nn.BatchNorm2d(256),\n",
    "            nn.LeakyReLU(0.2),\n",
    "            nn.ConvTranspose2d(256, 128, 4, stride=2, padding=1),\n",
    "            nn.BatchNorm2d(128),\n",
    "            nn.LeakyReLU(0.2),\n",
    "            nn.ConvTranspose2d(128, 64, 4, stride=2, padding=1),\n",
    "            nn.BatchNorm2d(64),\n",
    "            nn.LeakyReLU(0.2),\n",
    "            nn.Conv2d(64, 3, 3, stride=1, padding=1),\n",
    "            nn.Tanh()\n",
    "        )\n",
    "    def forward(self, x):\n",
    "        return self.model(x)\n"
   ]
  },
  {
   "cell_type": "code",
   "execution_count": null,
   "metadata": {},
   "outputs": [],
   "source": [
    "class Discriminator(nn.Module):\n",
    "    def __init__(self):\n",
    "        super(Discriminator, self).__init__()\n",
    "        self.model = nn.Sequential(\n",
    "            nn.Conv2d(3, 64, 4, stride=2, padding=1),\n",
    "            nn.LeakyReLU(0.2),\n",
    "            nn.Dropout(0.3),\n",
    "            nn.Conv2d(64, 128, 4, stride=2, padding=1),\n",
    "            nn.LeakyReLU(0.2),\n",
    "            nn.Dropout(0.3),\n",
    "            nn.Conv2d(128, 256, 4, stride=2, padding=1),\n",
    "            nn.LeakyReLU(0.2),\n",
    "            nn.Dropout(0.3),\n",
    "            nn.Conv2d(256, 512, 4, stride=2, padding=1),\n",
    "            nn.LeakyReLU(0.2),\n",
    "            nn.Dropout(0.3),\n",
    "            nn.Flatten(),\n",
    "            nn.Linear(512 * 4 * 4, 1),\n",
    "            nn.Sigmoid()\n",
    "        )\n",
    "    def forward(self, x):\n",
    "        return self.model(x)\n"
   ]
  },
  {
   "cell_type": "code",
   "execution_count": null,
   "metadata": {},
   "outputs": [],
   "source": [
    "generator = Generator().to(device)\n",
    "discriminator = Discriminator().to(device)\n",
    "",
    "criterion = nn.BCELoss()\n",
    "d_optimizer = optim.Adam(discriminator.parameters(), lr=0.0002, betas=(0.5, 0.999))\n",
    "g_optimizer = optim.Adam(generator.parameters(), lr=0.0002, betas=(0.5, 0.999))\n"
   ]
  },
  {
   "cell_type": "code",
   "execution_count": null,
   "metadata": {},
   "outputs": [],
   "source": [
    "def train_gan(epochs):\n",
    "    d_losses, g_losses = [], []\n",
    "    for epoch in range(epochs):\n",
    "        d_loss_avg, g_loss_avg = 0, 0\n",
    "        steps = 0\n",
    "        for real_imgs, _ in dataloader:\n",
    "            real_imgs = real_imgs.to(device)\n",
    "            batch_size = real_imgs.size(0)\n",
    "",
    "            d_optimizer.zero_grad()\n",
    "            real_labels = torch.ones(batch_size, 1).to(device) * 0.9\n",
    "            fake_labels = torch.zeros(batch_size, 1).to(device)\n",
    "            real_output = discriminator(real_imgs)\n",
    "            d_loss_real = criterion(real_output, real_labels)\n",
    "",
    "            noise = torch.randn(batch_size, latent_dim).to(device)\n",
    "            fake_imgs = generator(noise)\n",
    "            fake_output = discriminator(fake_imgs.detach())\n",
    "            d_loss_fake = criterion(fake_output, fake_labels)\n",
    "",
    "            d_loss = 0.5 * (d_loss_real + d_loss_fake)\n",
    "            d_loss.backward()\n",
    "            d_optimizer.step()\n",
    "",
    "            g_optimizer.zero_grad()\n",
    "            fake_output = discriminator(fake_imgs)\n",
    "            g_loss = criterion(fake_output, real_labels)\n",
    "            g_loss.backward()\n",
    "            g_optimizer.step()\n",
    "",
    "            d_loss_avg += d_loss.item()\n",
    "            g_loss_avg += g_loss.item()\n",
    "            steps += 1\n",
    "",
    "        d_loss_avg /= steps\n",
    "        g_loss_avg /= steps\n",
    "        d_losses.append(d_loss_avg)\n",
    "        g_losses.append(g_loss_avg)\n",
    "        print(f\"Epoch {epoch}, D Loss: {d_loss_avg:.4f}, G Loss: {g_loss_avg:.4f}\")\n",
    "",
    "        if epoch % 5 == 0 or epoch == epochs - 1:\n",
    "            with torch.no_grad():\n",
    "                noise = torch.randn(10, latent_dim).to(device)\n",
    "                generated_images = generator(noise).cpu().numpy()\n",
    "                generated_images = (generated_images * 0.5 + 0.5).transpose(0, 2, 3, 1)\n",
    "                plt.figure(figsize=(20, 2))\n",
    "                for i in range(10):\n",
    "                    plt.subplot(1, 10, i + 1)\n",
    "                    plt.imshow(generated_images[i])\n",
    "                    plt.axis('off')\n",
    "                plt.savefig(f'celeba_epoch_{epoch}.png')\n",
    "                plt.close()\n",
    "",
    "    plt.plot(d_losses, label='Discriminator Loss')\n",
    "    plt.plot(g_losses, label='Generator Loss')\n",
    "    plt.xlabel('Epoch')\n",
    "    plt.ylabel('Loss')\n",
    "    plt.legend()\n",
    "    plt.savefig('celeba_loss.png')\n",
    "    plt.close()\n"
   ]
  },
  {
   "cell_type": "code",
   "execution_count": null,
   "metadata": {},
   "outputs": [],
   "source": [
    "def debug_shapes(dataloader, discriminator, device):\n",
    "    for real_imgs, _ in dataloader:\n",
    "        real_imgs = real_imgs.to(device)\n",
    "        print(\"Input shape:\", real_imgs.shape)\n",
    "        class DebugDiscriminator(Discriminator):\n",
    "            def forward(self, x):\n",
    "                for i, layer in enumerate(self.model):\n",
    "                    x = layer(x)\n",
    "                    if i in [0, 3, 6, 9, 12, 13]:\n",
    "                        print(f\"Layer {i} ({layer.__class__.__name__}): {x.shape}\")\n",
    "                return x\n",
    "        debug_discriminator = DebugDiscriminator().to(device)\n",
    "        output = debug_discriminator(real_imgs)\n",
    "        print(\"Output shape:\", output.shape)\n",
    "        break\n"
   ]
  },
  {
   "cell_type": "code",
   "execution_count": null,
   "metadata": {},
   "outputs": [],
   "source": [
    "if __name__ == \"__main__\":\n",
    "    train_gan(epochs)\n"
   ]
  }
 ],
 "metadata": {
  "kernelspec": {
   "display_name": "Python 3",
   "language": "python",
   "name": "python3"
  },
  "language_info": {
   "codemirror_mode": {
    "name": "ipython",
    "version": 3
   },
   "file_extension": ".py",
   "mimetype": "text/x-python",
   "name": "python",
   "nbconvert_exporter": "python",
   "pygments_lexer": "ipython3",
   "version": "3.10.0"
  }
 },
 "nbformat": 4,
 "nbformat_minor": 5
}
