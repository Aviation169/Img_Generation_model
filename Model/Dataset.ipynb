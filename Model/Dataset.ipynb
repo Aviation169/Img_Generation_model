{
  "cells": [
    {
      "cell_type": "code",
      "source": "%pip install kagglehub",
      "metadata": {}
    },
    {
      "cell_type": "code",
      "source": "import kagglehub",
      "metadata": {}
    },
    {
      "cell_type": "markdown",
      "source": "# Download latest version of the CelebA aligned images dataset from KaggleHub"
    },
    {
      "cell_type": "code",
      "source": "path = kagglehub.dataset_download(\"yunting0123/img-align-celeba\")",
      "metadata": {}
    },
    {
      "cell_type": "code",
      "source": "print(\"Path to dataset files:\", path)",
      "metadata": {}
    }
  ],
  "metadata": {
    "kernelspec": {
      "display_name": "Python 3",
      "language": "python",
      "name": "python3"
    },
    "language_info": {
      "codemirror_mode": {
        "name": "ipython",
        "version": 3
      },
      "file_extension": ".py",
      "mimetype": "text/x-python",
      "name": "python",
      "nbconvert_exporter": "python",
      "pygments_lexer": "ipython3",
      "version": "3.10.0"
    }
  },
  "nbformat": 4,
  "nbformat_minor": 5
}
