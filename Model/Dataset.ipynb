[
  {
    "cell_type": "code",
    "source": "%pip install kagglehub",
    "metadata": {}
  },
  {
    "cell_type": "code",
    "source": "import kagglehub",
    "metadata": {}
  },
  {
    "cell_type": "markdown",
    "source": "# Download latest version of the CelebA aligned images dataset from KaggleHub"
  },
  {
    "cell_type": "code",
    "source": "path = kagglehub.dataset_download(\"yunting0123/img-align-celeba\")",
    "metadata": {}
  },
  {
    "cell_type": "code",
    "source": "print(\"Path to dataset files:\", path)",
    "metadata": {}
  }
]
